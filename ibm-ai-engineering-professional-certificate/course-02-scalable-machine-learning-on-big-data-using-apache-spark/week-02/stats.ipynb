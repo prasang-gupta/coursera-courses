{
 "cells": [
  {
   "cell_type": "code",
   "execution_count": 34,
   "metadata": {},
   "outputs": [],
   "source": [
    "try:\n",
    "    from pyspark import SparkContext, SparkConf\n",
    "    from pyspark.sql import SparkSession\n",
    "except ImportError as e:\n",
    "    printmd('<<<<<!!!!! Please restart your kernel after installing Apache Spark !!!!!>>>>>')\n",
    "import math"
   ]
  },
  {
   "cell_type": "code",
   "execution_count": 30,
   "metadata": {},
   "outputs": [],
   "source": [
    "sc = SparkContext.getOrCreate()\n",
    "\n",
    "spark = SparkSession \\\n",
    "    .builder \\\n",
    "    .getOrCreate()"
   ]
  },
  {
   "cell_type": "code",
   "execution_count": 57,
   "metadata": {},
   "outputs": [],
   "source": [
    "data = [34,1,23,4,3,3,12,4,3,1]\n",
    "l1 = [1,2,3,4,5,6,7,8,9,10]\n",
    "l2 = [7,6,5,4,5,6,7,8,9,10]\n",
    "rdd = sc.parallelize(data)\n",
    "rdd1 = sc.parallelize(l1)\n",
    "rdd2 = sc.parallelize(l2)"
   ]
  },
  {
   "cell_type": "code",
   "execution_count": 52,
   "metadata": {},
   "outputs": [
    {
     "output_type": "execute_result",
     "data": {
      "text/plain": "8.8"
     },
     "metadata": {},
     "execution_count": 52
    }
   ],
   "source": [
    "# MEAN\n",
    "\n",
    "mean = rdd.sum() / float(rdd.count())\n",
    "mean"
   ]
  },
  {
   "cell_type": "code",
   "execution_count": 53,
   "metadata": {
    "tags": []
   },
   "outputs": [
    {
     "output_type": "execute_result",
     "data": {
      "text/plain": "3.5"
     },
     "metadata": {},
     "execution_count": 53
    }
   ],
   "source": [
    "# MEDIAN\n",
    "\n",
    "sorted_and_indexed = rdd.sortBy(lambda x : x).zipWithIndex().map(lambda x : (x[1], x[0]))\n",
    "n = sorted_and_indexed.count()\n",
    "if n % 2 == 0:\n",
    "    index1 = (n/2)-1\n",
    "    index2 = n/2\n",
    "    median = (sorted_and_indexed.lookup(index1)[0] + sorted_and_indexed.lookup(index2)[0]) / 2\n",
    "else:\n",
    "    index = n/2\n",
    "    median = sorted_and_indexed.lookup(index)[0]\n",
    "median"
   ]
  },
  {
   "cell_type": "code",
   "execution_count": 54,
   "metadata": {},
   "outputs": [
    {
     "output_type": "execute_result",
     "data": {
      "text/plain": "10.562196741208714"
     },
     "metadata": {},
     "execution_count": 54
    }
   ],
   "source": [
    "# STANDARD DEVIATION\n",
    "\n",
    "standard_deviation = math.sqrt(rdd.map(lambda x : pow(x-mean,2)).sum() / float(rdd.count()))\n",
    "standard_deviation"
   ]
  },
  {
   "cell_type": "code",
   "execution_count": 55,
   "metadata": {},
   "outputs": [
    {
     "output_type": "execute_result",
     "data": {
      "text/plain": "1.4549069329914"
     },
     "metadata": {},
     "execution_count": 55
    }
   ],
   "source": [
    "# SKEWNESS\n",
    "\n",
    "skewness = rdd.map(lambda x : pow(x-mean,3)/pow(standard_deviation,3)).sum() / float(rdd.count())\n",
    "skewness"
   ]
  },
  {
   "cell_type": "code",
   "execution_count": 56,
   "metadata": {},
   "outputs": [
    {
     "output_type": "execute_result",
     "data": {
      "text/plain": "3.663124005193276"
     },
     "metadata": {},
     "execution_count": 56
    }
   ],
   "source": [
    "# KURTOSIS\n",
    "\n",
    "kurtosis = rdd.map(lambda x : pow(x-mean, 4)/pow(standard_deviation,4)).sum() / float(rdd.count())\n",
    "kurtosis"
   ]
  },
  {
   "cell_type": "code",
   "execution_count": 61,
   "metadata": {},
   "outputs": [
    {
     "output_type": "execute_result",
     "data": {
      "text/plain": "3.65"
     },
     "metadata": {},
     "execution_count": 61
    }
   ],
   "source": [
    "# COVARIANCE\n",
    "\n",
    "mean1 = rdd1.sum() / float(rdd1.count())\n",
    "mean2 = rdd2.sum() / float(rdd2.count())\n",
    "rdd12 = rdd1.zip(rdd2)\n",
    "covariance = rdd12.map(lambda x : (x[0]-mean1) * (x[1]-mean2)).sum() / float(rdd12.count())\n",
    "covariance"
   ]
  },
  {
   "cell_type": "code",
   "execution_count": 62,
   "metadata": {},
   "outputs": [
    {
     "output_type": "execute_result",
     "data": {
      "text/plain": "0.7092729120837249"
     },
     "metadata": {},
     "execution_count": 62
    }
   ],
   "source": [
    "# CORRELATION\n",
    "\n",
    "stddev1 = math.sqrt(rdd1.map(lambda x : pow(x-mean1,2)).sum() / float(rdd1.count()))\n",
    "stddev2 = math.sqrt(rdd2.map(lambda x : pow(x-mean2,2)).sum() / float(rdd2.count()))\n",
    "correlation = covariance / (stddev1 * stddev2)\n",
    "correlation"
   ]
  },
  {
   "cell_type": "code",
   "execution_count": null,
   "metadata": {},
   "outputs": [],
   "source": []
  }
 ],
 "metadata": {
  "language_info": {
   "codemirror_mode": {
    "name": "ipython",
    "version": 3
   },
   "file_extension": ".py",
   "mimetype": "text/x-python",
   "name": "python",
   "nbconvert_exporter": "python",
   "pygments_lexer": "ipython3",
   "version": "3.7.3-final"
  },
  "orig_nbformat": 2,
  "kernelspec": {
   "name": "python37364bitbasecondac9857df71c6041c088baba4a1fbfec04",
   "display_name": "Python 3.7.3 64-bit ('base': conda)"
  }
 },
 "nbformat": 4,
 "nbformat_minor": 2
}